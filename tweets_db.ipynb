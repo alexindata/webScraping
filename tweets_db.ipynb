{
 "cells": [
  {
   "cell_type": "markdown",
   "metadata": {},
   "source": [
    "# Collection of tweets on birds from Twitter.com using REST API - Github\n",
    "\n",
    "## Alexindata 04/12/2017\n",
    "\n",
    "## Tools: Jupyter Notebook with Python 3.5, MongoDB, PostgreSQL RDBMS\n"
   ]
  },
  {
   "cell_type": "code",
   "execution_count": 1,
   "metadata": {
    "collapsed": false
   },
   "outputs": [],
   "source": [
    "import time\n",
    "import datetime\n",
    "import psycopg2\n",
    "import pymongo\n",
    "import json\n",
    "import re\n",
    "import tweepy\n",
    "\n",
    "from IPython.display import display\n",
    "from bson.objectid import ObjectId\n",
    "from pymongo import MongoClient\n",
    "from tweepy import OAuthHandler"
   ]
  },
  {
   "cell_type": "code",
   "execution_count": 2,
   "metadata": {
    "collapsed": false
   },
   "outputs": [],
   "source": [
    "# use per-app Twitter OAuth\n",
    "\n",
    "consumer_key = '######'\n",
    "consumer_secret = '######'\n",
    "\n",
    "auth = tweepy.AppAuthHandler(consumer_key, consumer_secret)\n",
    "api = tweepy.API(auth, wait_on_rate_limit=True, wait_on_rate_limit_notify=True)\n"
   ]
  },
  {
   "cell_type": "markdown",
   "metadata": {},
   "source": [
    "## Select birds from ebird psql table to search on Twitter.com"
   ]
  },
  {
   "cell_type": "code",
   "execution_count": 5,
   "metadata": {
    "collapsed": false
   },
   "outputs": [
    {
     "name": "stdout",
     "output_type": "stream",
     "text": [
      "Bird list selected.\n"
     ]
    },
    {
     "data": {
      "text/plain": [
       "['American Black Duck',\n",
       " 'American Three toed Woodpecker',\n",
       " 'American Tree Sparrow']"
      ]
     },
     "metadata": {},
     "output_type": "display_data"
    }
   ],
   "source": [
    "# this selects all birds in ebird postgresql db\n",
    "\n",
    "user = '######'\n",
    "pw = \"######\"\n",
    "conn = psycopg2.connect(dbname = \"birds\", host = \"localhost\", port = 5432, user = user, password = pw)\n",
    "cur = conn.cursor()\n",
    "\n",
    "try:\n",
    "    cur.execute(\"SELECT name FROM ebird;\")\n",
    "except:\n",
    "    conn.rollback()\n",
    "else:\n",
    "    bird_list = cur.fetchall()\n",
    "    print('Bird list selected.')\n",
    "\n",
    "all_birds = [b[0] for b in bird_list]  # de-tupling\n",
    "display(all_birds[:3])  # print the first 3 birds of the list\n",
    "\n",
    "cur.close()\n",
    "conn.close()\n"
   ]
  },
  {
   "cell_type": "code",
   "execution_count": 23,
   "metadata": {
    "collapsed": false
   },
   "outputs": [],
   "source": [
    "# connect to MongoDB database named 'twitter'\n",
    "\n",
    "client = MongoClient()\n",
    "db = client.twitter  # mongo in mongohub is the name of the connection\n"
   ]
  },
  {
   "cell_type": "markdown",
   "metadata": {},
   "source": [
    "## Generate variants of bird names used in search\n",
    "\n",
    "### Example: Yellow rumped Warbler\n",
    "\n",
    "* Yellow rumped Warbler\n",
    "* Yellow rumped #Warbler\n",
    "* #yellowrumpedwarbler\n",
    "\n",
    "_'All these words' option is used in Twitter REST API.search (not 'Exact phrase' option)_"
   ]
  },
  {
   "cell_type": "code",
   "execution_count": 7,
   "metadata": {
    "collapsed": true
   },
   "outputs": [],
   "source": [
    "# a function that generate variants of bird names with hashtags\n",
    "\n",
    "def hashtag(bird):\n",
    "    bird_tag = set()\n",
    "    bird_tag.add(bird)\n",
    "    bird_tag.add('#' + ''.join(bird.split(' ')))\n",
    "    \n",
    "    s = bird.split(' ')\n",
    "    s[-1] = '#' + s[-1]\n",
    "    bird_tag.add(' '.join(s))\n",
    "    return bird_tag"
   ]
  },
  {
   "cell_type": "code",
   "execution_count": 28,
   "metadata": {
    "collapsed": false,
    "scrolled": false
   },
   "outputs": [],
   "source": [
    "# download tweets from Twitter.com\n",
    "# load tweets into MongoDB 'twitter', 'tweets' collection\n",
    "# load tweet id, MongoDB _id, search term, search timestamp info into psql db 'birds', 'tweets' table\n",
    "\n",
    "last_id = -1\n",
    "max_id = None\n",
    "total_tweets_saved = 0\n",
    "\n",
    "user = '######'\n",
    "pw = \"######\"\n",
    "conn = psycopg2.connect(dbname = \"birds\", host = \"localhost\", port = 5432, user = user, password = pw)\n",
    "cur = conn.cursor()\n",
    "\n",
    "try:\n",
    "    cur.execute(\"SELECT MAX(CAST(id_str AS bigint)) FROM tweets;\")\n",
    "except:\n",
    "    conn.rollback()\n",
    "else:\n",
    "    max_id = cur.fetchone()[0]\n",
    "    print('Starting timestamp: ', datetime.datetime.now(), 'Max_id: ', max_id)\n",
    "\n",
    "excluded_words = ['MLB', 'Baseball', 'Ticket', '500px', 'Art', 'Artwork', 'Drawing', 'Painting', 'Sale', 'Offer']\n",
    "excluded_birds = ['Canada Goose']\n",
    "\n",
    "bird_list = all_birds\n",
    "\n",
    "for bird in bird_list:\n",
    "    if bird in excluded_birds: continue\n",
    "\n",
    "    tweets_saved = 0\n",
    "\n",
    "    # tweet id are BIGINT, which is out of range for postgresql int type\n",
    "    # must use (bird, ) and not (bird) in cur.execute() phrase    \n",
    "    try:\n",
    "        cur.execute(\"SELECT search_term, MAX(CAST(id_str AS bigint)) FROM tweets WHERE search_term = %s GROUP BY search_term;\", (bird,))\n",
    "    except:\n",
    "        conn.rollback()\n",
    "    else:\n",
    "        try:\n",
    "            last_id = cur.fetchone()[1]\n",
    "        except:\n",
    "            last_id = -1\n",
    "    print(bird, last_id)\n",
    "    \n",
    "    bird_tag = hashtag(bird)\n",
    "    for tag in bird_tag:\n",
    "\n",
    "        # use twitter search api to search, filter, and load raw tweets into mongo.twitter mongodb\n",
    "        for status in tweepy.Cursor(api.search, q=tag, result_type='mixed', since_id = max_id, include_entities=True, monitor_rate_limit=True, wait_on_rate_limit=True).items(1000):\n",
    "\n",
    "            _id = None\n",
    "            media = None\n",
    "            exclude_flag = 0\n",
    "            \n",
    "            tweet = status._json\n",
    "            id_str = tweet['id_str']\n",
    "            text = tweet['text']\n",
    "\n",
    "            # is the tweet a retweet?\n",
    "            if text.startswith('RT '):\n",
    "                exclude_flag = 1\n",
    "            else:\n",
    "                try:\n",
    "                    if tweet['retweeted_status']:\n",
    "                        exclude_flag = 1\n",
    "                except:\n",
    "                    exclude_flag = 0\n",
    "            \n",
    "            # does the tweet contain excluded words? \n",
    "            for word in excluded_words:\n",
    "                if re.search(word.lower(), text.lower()):\n",
    "                    exclude_flag = 1\n",
    "                    \n",
    "            if re.search('^#photography #.+ by', text.lower()):\n",
    "                exclude_flag = 1\n",
    "                \n",
    "            if exclude_flag == 1:\n",
    "                #print('This tweet is excluded: ', text)\n",
    "                continue\n",
    "\n",
    "            # only store tweets that are not retweets, in english, has photo-video media, and not including certain words\n",
    "\n",
    "            retweet_count = tweet['retweet_count']\n",
    "            lang = tweet['lang']\n",
    "\n",
    "            if tweet['entities'].get('media', None) is not None:\n",
    "                media = tweet['entities']['media'][0]['type']\n",
    "\n",
    "            if db.tweets.find_one({'id_str': id_str}):\n",
    "                continue\n",
    "\n",
    "            if (lang == 'en') and (media in ['photo', 'video']):                               \n",
    "                ### insert tweepy status object as json format in mongo db ###\n",
    "                try:\n",
    "                    _id = db.tweets.insert_one( tweet ).inserted_id  # _id is an ObjectId object, use str() to convert to str\n",
    "                    if _id:\n",
    "                        try:\n",
    "                            cur.execute(\"INSERT INTO tweets (id_str, mongo_id, retweet_count, search_term, media) VALUES (%s, %s, %s, %s, %s);\", (id_str, str(_id), retweet_count, bird, media))\n",
    "                        except psycopg2.Error as e:\n",
    "                            conn.rollback()\n",
    "                            print('Inserted into MongoDB, but rolled back in Psql db, _id, with error ', _id, e)\n",
    "                        else:\n",
    "                            conn.commit()\n",
    "                            tweets_saved += 1\n",
    "\n",
    "                except:\n",
    "                    print('Error with MongoDB, db.collection.insert_one')\n",
    "\n",
    "    print('{} tweets saved in mongodb and postgresql databases for {}.'.format(tweets_saved, bird))\n",
    "    total_tweets_saved += tweets_saved\n",
    "                                     \n",
    "print('{} tweets saved in mongodb and postgresql databases in total.'.format(total_tweets_saved))\n",
    "print('Ending timestamp: ', datetime.datetime.now())\n",
    "\n",
    "cur.close()\n",
    "conn.close()\n"
   ]
  },
  {
   "cell_type": "markdown",
   "metadata": {},
   "source": [
    "## Display some tweets text in Mongodb"
   ]
  },
  {
   "cell_type": "code",
   "execution_count": 8,
   "metadata": {
    "collapsed": false
   },
   "outputs": [
    {
     "name": "stdout",
     "output_type": "stream",
     "text": [
      "Mayuko sighted a Mourning Dove on NatureShare https://t.co/BBtlxGSgDv https://t.co/MOGE4EhGMF 847571894924697601\n",
      "\"The Cooing of the Dove and the Cawing of the Crow: The Poetics of Mourning in Two Elegies\" https://t.co/gfAtgElwnP https://t.co/Lze89HKSDW 847461530316623881\n",
      "@wildtimes we found an egg in our yard after the storm. Think it's a mourning dove. Suggestions? https://t.co/mgdq8PPhjp 847447758092947459\n",
      "Beautiful wing feather detail of a Mourning Dove 03/30 09:2 #cornellfeeders https://t.co/QLcaHkQCvD 847446684657270785\n",
      "Rare sighting of the majestic mourning dove #oxybirds https://t.co/hCfwvwecYT 847310942819950594\n",
      "My friend Jack the Mourning Dove. https://t.co/QUfFZx8DUF 847267983453847552\n",
      "Mourning Dove blocks your path. https://t.co/nZ8Ld7jHAY 847230457313804290\n",
      "Mourning Dove couple in my front yard 💕 https://t.co/egGBm3Y4CF 847208218933809152\n",
      "Mourning Warbler https://t.co/MYgZqwioOl 850061792021811200\n"
     ]
    }
   ],
   "source": [
    "n = 0\n",
    "for obj in db.tweets.find():\n",
    "    n += 1\n",
    "    if n > 3000 and n < 3010:\n",
    "        print(obj['text'], obj['id'])\n",
    "    else:\n",
    "        continue"
   ]
  },
  {
   "cell_type": "code",
   "execution_count": 10,
   "metadata": {
    "collapsed": false
   },
   "outputs": [
    {
     "name": "stdout",
     "output_type": "stream",
     "text": [
      "6442\n"
     ]
    }
   ],
   "source": [
    "# total number of tweets in Mongodb as-of-now\n",
    "print(db.tweets.find({}).count())"
   ]
  },
  {
   "cell_type": "markdown",
   "metadata": {},
   "source": [
    "## Finding tweets in mongodb"
   ]
  },
  {
   "cell_type": "code",
   "execution_count": 16,
   "metadata": {
    "collapsed": false
   },
   "outputs": [
    {
     "name": "stdout",
     "output_type": "stream",
     "text": [
      "Learn about Townsend's Warbler behavior, habitat, and more in our free online bird guide: https://t.co/bwucORywhK https://t.co/HaPQa4hlbm\n",
      "Townsend's Warbler (Pismo Beach, CA) via /r/birdpics https://t.co/cxUDLYxWR9 https://t.co/ysjNkVhfUn\n"
     ]
    }
   ],
   "source": [
    "# by searching for words in tweet text\n",
    "for t in db.tweets.find( {'$and' : [{'text' : {'$regex' : '.*Townsend\\'s.*', '$options' : 'i'}}, \n",
    "                                    {'text' : {'$regex' : '.*Warbler.*', '$options': 'i'}}]}):\n",
    "    print(t['text'] )\n"
   ]
  },
  {
   "cell_type": "code",
   "execution_count": 18,
   "metadata": {
    "collapsed": false
   },
   "outputs": [
    {
     "data": {
      "text/plain": [
       "{'_id': ObjectId('58e8dfc340383b024ee905f5'),\n",
       " 'contributors': None,\n",
       " 'coordinates': None,\n",
       " 'created_at': 'Thu Apr 06 12:03:23 +0000 2017',\n",
       " 'entities': {'hashtags': [{'indices': [21, 30], 'text': 'Brooklyn'},\n",
       "   {'indices': [62, 66], 'text': 'nyc'},\n",
       "   {'indices': [67, 75], 'text': 'birding'}],\n",
       "  'media': [{'display_url': 'pic.twitter.com/cbwW73SkKl',\n",
       "    'expanded_url': 'https://twitter.com/heatherwolf/status/849955692710637568/photo/1',\n",
       "    'id': 849955600926744577,\n",
       "    'id_str': '849955600926744577',\n",
       "    'indices': [76, 99],\n",
       "    'media_url': 'http://pbs.twimg.com/media/C8umHaQXoAEFaRA.jpg',\n",
       "    'media_url_https': 'https://pbs.twimg.com/media/C8umHaQXoAEFaRA.jpg',\n",
       "    'sizes': {'large': {'h': 725, 'resize': 'fit', 'w': 1000},\n",
       "     'medium': {'h': 725, 'resize': 'fit', 'w': 1000},\n",
       "     'small': {'h': 493, 'resize': 'fit', 'w': 680},\n",
       "     'thumb': {'h': 150, 'resize': 'crop', 'w': 150}},\n",
       "    'type': 'photo',\n",
       "    'url': 'https://t.co/cbwW73SkKl'}],\n",
       "  'symbols': [],\n",
       "  'urls': [],\n",
       "  'user_mentions': []},\n",
       " 'extended_entities': {'media': [{'display_url': 'pic.twitter.com/cbwW73SkKl',\n",
       "    'expanded_url': 'https://twitter.com/heatherwolf/status/849955692710637568/photo/1',\n",
       "    'id': 849955600926744577,\n",
       "    'id_str': '849955600926744577',\n",
       "    'indices': [76, 99],\n",
       "    'media_url': 'http://pbs.twimg.com/media/C8umHaQXoAEFaRA.jpg',\n",
       "    'media_url_https': 'https://pbs.twimg.com/media/C8umHaQXoAEFaRA.jpg',\n",
       "    'sizes': {'large': {'h': 725, 'resize': 'fit', 'w': 1000},\n",
       "     'medium': {'h': 725, 'resize': 'fit', 'w': 1000},\n",
       "     'small': {'h': 493, 'resize': 'fit', 'w': 680},\n",
       "     'thumb': {'h': 150, 'resize': 'crop', 'w': 150}},\n",
       "    'type': 'photo',\n",
       "    'url': 'https://t.co/cbwW73SkKl'}]},\n",
       " 'favorite_count': 23,\n",
       " 'favorited': False,\n",
       " 'geo': None,\n",
       " 'id': 849955692710637568,\n",
       " 'id_str': '849955692710637568',\n",
       " 'in_reply_to_screen_name': None,\n",
       " 'in_reply_to_status_id': None,\n",
       " 'in_reply_to_status_id_str': None,\n",
       " 'in_reply_to_user_id': None,\n",
       " 'in_reply_to_user_id_str': None,\n",
       " 'is_quote_status': False,\n",
       " 'lang': 'en',\n",
       " 'metadata': {'iso_language_code': 'en', 'result_type': 'recent'},\n",
       " 'place': None,\n",
       " 'possibly_sensitive': False,\n",
       " 'retweet_count': 5,\n",
       " 'retweeted': False,\n",
       " 'source': '<a href=\"http://twitter.com\" rel=\"nofollow\">Twitter Web Client</a>',\n",
       " 'text': 'American Black Duck, #Brooklyn Bridge Park, Pier 1 Long Pond. #nyc #birding https://t.co/cbwW73SkKl',\n",
       " 'truncated': False,\n",
       " 'user': {'contributors_enabled': False,\n",
       "  'created_at': 'Fri Sep 12 03:12:24 +0000 2008',\n",
       "  'default_profile': False,\n",
       "  'default_profile_image': False,\n",
       "  'description': 'On a quest to document the birds of Brooklyn Bridge Park. Author of Birding at the Bridge, web developer @CornellBirds.',\n",
       "  'entities': {'description': {'urls': []},\n",
       "   'url': {'urls': [{'display_url': 'brooklynbridgebirds.com',\n",
       "      'expanded_url': 'http://brooklynbridgebirds.com',\n",
       "      'indices': [0, 23],\n",
       "      'url': 'https://t.co/vrnP4Lu423'}]}},\n",
       "  'favourites_count': 4128,\n",
       "  'follow_request_sent': None,\n",
       "  'followers_count': 2106,\n",
       "  'following': None,\n",
       "  'friends_count': 2256,\n",
       "  'geo_enabled': False,\n",
       "  'has_extended_profile': False,\n",
       "  'id': 16252248,\n",
       "  'id_str': '16252248',\n",
       "  'is_translation_enabled': False,\n",
       "  'is_translator': False,\n",
       "  'lang': 'en',\n",
       "  'listed_count': 80,\n",
       "  'location': 'Brooklyn, NY',\n",
       "  'name': 'Heather Wolf',\n",
       "  'notifications': None,\n",
       "  'profile_background_color': '8B542B',\n",
       "  'profile_background_image_url': 'http://abs.twimg.com/images/themes/theme8/bg.gif',\n",
       "  'profile_background_image_url_https': 'https://abs.twimg.com/images/themes/theme8/bg.gif',\n",
       "  'profile_background_tile': False,\n",
       "  'profile_banner_url': 'https://pbs.twimg.com/profile_banners/16252248/1422023418',\n",
       "  'profile_image_url': 'http://pbs.twimg.com/profile_images/558303158334550018/Eoz9XoUv_normal.jpeg',\n",
       "  'profile_image_url_https': 'https://pbs.twimg.com/profile_images/558303158334550018/Eoz9XoUv_normal.jpeg',\n",
       "  'profile_link_color': '9D582E',\n",
       "  'profile_sidebar_border_color': 'D9B17E',\n",
       "  'profile_sidebar_fill_color': 'EADEAA',\n",
       "  'profile_text_color': '333333',\n",
       "  'profile_use_background_image': True,\n",
       "  'protected': False,\n",
       "  'screen_name': 'heatherwolf',\n",
       "  'statuses_count': 1471,\n",
       "  'time_zone': 'Central Time (US & Canada)',\n",
       "  'translator_type': 'none',\n",
       "  'url': 'https://t.co/vrnP4Lu423',\n",
       "  'utc_offset': -18000,\n",
       "  'verified': False}}"
      ]
     },
     "execution_count": 18,
     "metadata": {},
     "output_type": "execute_result"
    }
   ],
   "source": [
    "# show 1 random tweet, displaying the whole object\n",
    "db.tweets.find_one()"
   ]
  },
  {
   "cell_type": "code",
   "execution_count": 19,
   "metadata": {
    "collapsed": false
   },
   "outputs": [
    {
     "data": {
      "text/plain": [
       "{'_id': ObjectId('58e906c340383b024ee911fe'),\n",
       " 'contributors': None,\n",
       " 'coordinates': None,\n",
       " 'created_at': 'Thu Apr 06 19:04:59 +0000 2017',\n",
       " 'entities': {'hashtags': [],\n",
       "  'media': [{'display_url': 'pic.twitter.com/MYgZqwioOl',\n",
       "    'expanded_url': 'https://twitter.com/birdcolourbot/status/850061792021811200/photo/1',\n",
       "    'id': 850061789018689538,\n",
       "    'id_str': '850061789018689538',\n",
       "    'indices': [17, 40],\n",
       "    'media_url': 'http://pbs.twimg.com/media/C8wGsXuXkAIIYjF.png',\n",
       "    'media_url_https': 'https://pbs.twimg.com/media/C8wGsXuXkAIIYjF.png',\n",
       "    'sizes': {'large': {'h': 100, 'resize': 'fit', 'w': 300},\n",
       "     'medium': {'h': 100, 'resize': 'fit', 'w': 300},\n",
       "     'small': {'h': 100, 'resize': 'fit', 'w': 300},\n",
       "     'thumb': {'h': 100, 'resize': 'crop', 'w': 100}},\n",
       "    'type': 'photo',\n",
       "    'url': 'https://t.co/MYgZqwioOl'}],\n",
       "  'symbols': [],\n",
       "  'urls': [],\n",
       "  'user_mentions': []},\n",
       " 'extended_entities': {'media': [{'display_url': 'pic.twitter.com/MYgZqwioOl',\n",
       "    'expanded_url': 'https://twitter.com/birdcolourbot/status/850061792021811200/photo/1',\n",
       "    'id': 850061789018689538,\n",
       "    'id_str': '850061789018689538',\n",
       "    'indices': [17, 40],\n",
       "    'media_url': 'http://pbs.twimg.com/media/C8wGsXuXkAIIYjF.png',\n",
       "    'media_url_https': 'https://pbs.twimg.com/media/C8wGsXuXkAIIYjF.png',\n",
       "    'sizes': {'large': {'h': 100, 'resize': 'fit', 'w': 300},\n",
       "     'medium': {'h': 100, 'resize': 'fit', 'w': 300},\n",
       "     'small': {'h': 100, 'resize': 'fit', 'w': 300},\n",
       "     'thumb': {'h': 100, 'resize': 'crop', 'w': 100}},\n",
       "    'type': 'photo',\n",
       "    'url': 'https://t.co/MYgZqwioOl'}]},\n",
       " 'favorite_count': 0,\n",
       " 'favorited': False,\n",
       " 'geo': None,\n",
       " 'id': 850061792021811200,\n",
       " 'id_str': '850061792021811200',\n",
       " 'in_reply_to_screen_name': None,\n",
       " 'in_reply_to_status_id': None,\n",
       " 'in_reply_to_status_id_str': None,\n",
       " 'in_reply_to_user_id': None,\n",
       " 'in_reply_to_user_id_str': None,\n",
       " 'is_quote_status': False,\n",
       " 'lang': 'en',\n",
       " 'metadata': {'iso_language_code': 'en', 'result_type': 'recent'},\n",
       " 'place': None,\n",
       " 'possibly_sensitive': False,\n",
       " 'retweet_count': 1,\n",
       " 'retweeted': False,\n",
       " 'source': '<a href=\"http://cheapbotsdonequick.com\" rel=\"nofollow\">Cheap Bots, Done Quick!</a>',\n",
       " 'text': 'Mourning Warbler https://t.co/MYgZqwioOl',\n",
       " 'truncated': False,\n",
       " 'user': {'contributors_enabled': False,\n",
       "  'created_at': 'Sun Mar 12 23:07:27 +0000 2017',\n",
       "  'default_profile': True,\n",
       "  'default_profile_image': False,\n",
       "  'description': 'I tweet the colours of birds from North America.\\n\\nMade with cheapbotsdonequick!',\n",
       "  'entities': {'description': {'urls': []}},\n",
       "  'favourites_count': 0,\n",
       "  'follow_request_sent': None,\n",
       "  'followers_count': 93,\n",
       "  'following': None,\n",
       "  'friends_count': 0,\n",
       "  'geo_enabled': False,\n",
       "  'has_extended_profile': True,\n",
       "  'id': 841063115722805250,\n",
       "  'id_str': '841063115722805250',\n",
       "  'is_translation_enabled': False,\n",
       "  'is_translator': False,\n",
       "  'lang': 'en',\n",
       "  'listed_count': 0,\n",
       "  'location': 'the internet/your backyard',\n",
       "  'name': 'Bird Colours',\n",
       "  'notifications': None,\n",
       "  'profile_background_color': 'F5F8FA',\n",
       "  'profile_background_image_url': None,\n",
       "  'profile_background_image_url_https': None,\n",
       "  'profile_background_tile': False,\n",
       "  'profile_image_url': 'http://pbs.twimg.com/profile_images/841063996719480833/Sfomv_4k_normal.jpg',\n",
       "  'profile_image_url_https': 'https://pbs.twimg.com/profile_images/841063996719480833/Sfomv_4k_normal.jpg',\n",
       "  'profile_link_color': '1DA1F2',\n",
       "  'profile_sidebar_border_color': 'C0DEED',\n",
       "  'profile_sidebar_fill_color': 'DDEEF6',\n",
       "  'profile_text_color': '333333',\n",
       "  'profile_use_background_image': True,\n",
       "  'protected': False,\n",
       "  'screen_name': 'birdcolourbot',\n",
       "  'statuses_count': 100,\n",
       "  'time_zone': 'Eastern Time (US & Canada)',\n",
       "  'translator_type': 'none',\n",
       "  'url': None,\n",
       "  'utc_offset': -14400,\n",
       "  'verified': False}}"
      ]
     },
     "execution_count": 19,
     "metadata": {},
     "output_type": "execute_result"
    }
   ],
   "source": [
    "# find the tweet by id_str, displaying the whole object\n",
    "db.tweets.find_one({'id_str': '850061792021811200'})"
   ]
  },
  {
   "cell_type": "markdown",
   "metadata": {},
   "source": [
    "## Quality check on downloaded tweets"
   ]
  },
  {
   "cell_type": "markdown",
   "metadata": {},
   "source": [
    "### Problematic search terms:\n",
    "\n",
    "* Baltimore Oriole: 119/7112 tweets collected, confused with the MLB team\n",
    "* Redhead: 344/7112 tweets collected, women that are redheads,\n",
    "* Brant: place name, people name\n",
    "* Osprey: brands\n",
    "* Canada Goose: commercial brand\n",
    "* Merlin: a priest\n",
    "\n",
    "### Solutions:\n",
    "* remove all rows collected by these search terms from both mongodb and postgresql db\n",
    "* change in both ebird and wiki tables: \n",
    "    * Redhead to Redhead Duck, \n",
    "    * Brant to Brant Goose, \n",
    "    * Osprey to Osprey Eagle \n",
    "    * Merlin to Merlin Falcon\n",
    "* exclude tweets if containing some keywords, e.g., artwork, sale, painting, MLB etc\n",
    "* exclude some bird names from tweet collection, e.g. Canada Goose\n"
   ]
  },
  {
   "cell_type": "markdown",
   "metadata": {},
   "source": [
    "# Interactions between MongoDB and Postgresql db"
   ]
  },
  {
   "cell_type": "markdown",
   "metadata": {},
   "source": [
    "## From MongoDB to Postgresql db\n",
    "\n",
    "### Delete records in MongoDB by a field attribute, use the \\_id to delete records in Postgresql db\n",
    "\n",
    "* Delete tweets containing 'Offer', or 'offer' in tweet text"
   ]
  },
  {
   "cell_type": "code",
   "execution_count": 22,
   "metadata": {
    "collapsed": false
   },
   "outputs": [],
   "source": [
    "user = '######'\n",
    "pw = '######'\n",
    "conn = psycopg2.connect(dbname = \"birds\", host = \"localhost\", port = 5432, user = user, password = pw)\n",
    "cur = conn.cursor()\n",
    "\n",
    "# find records containing 'offer' or 'Offer' in tweet text\n",
    "# get the _id back\n",
    "\n",
    "for t in db.tweets.find( {\"text\": {\"$regex\": \".*offer.*|.*Offer.*\"}} ):\n",
    "    # t['_id] is of type bson.objectid.ObjectId, need to be converted to str for use in postgresql query\n",
    "    try:\n",
    "        cur.execute(\"DELETE FROM tweets WHERE mongo_id = %s;\", (str(t['_id']), ))\n",
    "    except:\n",
    "        conn.rollback()\n",
    "        print(\"not working...\")\n",
    "    else:\n",
    "        conn.commit()\n",
    "        print('Psgl successfully committed.')\n",
    "    result = db.tweets.delete_one( {'_id':t['_id']} )\n",
    "    print(result.deleted_count)\n",
    "\n",
    "cur.close()\n",
    "conn.close()"
   ]
  },
  {
   "cell_type": "markdown",
   "metadata": {
    "collapsed": true
   },
   "source": [
    "## From Postgresql db to MongoDB\n",
    "\n",
    "* Find the ids of the tweets retrieved from twitter, under search term : \"Anna's Hummingbird\" in Postgresql db\n",
    "* Retrieve the tweet text from Mongodb\n"
   ]
  },
  {
   "cell_type": "code",
   "execution_count": 20,
   "metadata": {
    "collapsed": false,
    "scrolled": true
   },
   "outputs": [
    {
     "name": "stdout",
     "output_type": "stream",
     "text": [
      "Psgl successfully committed.\n",
      "Anna's Hummingbird #desert #southwest #Arizona #hummingbird #photography https://t.co/jyzHmPZimA\n",
      "Female Anna's Hummingbird h40 #photography by Mark Myhaver #myhaverphotography #hummingbird https://t.co/3xS4RGqcNm https://t.co/Xq3iWcBs6s\n",
      "Anna's #hummingbird at my patio feeder. #birdphotography #photography https://t.co/gqA27hbRCU\n",
      "Anna’s Hummingbird feeding on a flower blossom. #NationalPollinatorMonth https://t.co/vmnkNtCik3\n",
      "Learn about Anna's Hummingbird behavior, habitat, and more in our free online bird guide: https://t.co/LyrUaPNzF7 https://t.co/Xo24jODxmk\n",
      "Did someone say tweet? An Anna's hummingbird outside my house. https://t.co/huKl50vhCT\n",
      "white Anna's Hummingbird with leucatism (not albinism) at UCSC Arboretum https://t.co/PGYT5Qrnth\n",
      "Anna's Hummingbird\n",
      "Grenvillea Rosemary\n",
      "@TurtleBayPark https://t.co/NCb5IEt6nt\n",
      "Photo by Peter Bangayan\r",
      " \r",
      "Anna's hummingbird\r",
      "Kent Washington USA https://t.co/Bt0hkgxucG\n",
      "We had some nice yard birds this afternoon. Red-tailed hawk, Anna's hummingbird and Costa's hummingbird. https://t.co/tKgjKCwPyL\n"
     ]
    }
   ],
   "source": [
    "user = '######'\n",
    "pw = \"######\"\n",
    "conn = psycopg2.connect(dbname = \"birds\", host = \"localhost\", port = 5432, user = user, password = pw)\n",
    "cur = conn.cursor()\n",
    "\n",
    "try:\n",
    "    cur.execute(\"SELECT mongo_id FROM tweets WHERE LOWER(search_term) = LOWER('Anna''s Hummingbird');\")\n",
    "except:\n",
    "    conn.rollback()\n",
    "else:\n",
    "    result = cur.fetchall()\n",
    "    print('Psgl successfully committed.')\n",
    "\n",
    "# search mongodb using '_id'\n",
    "# must use ObjectId(_id) from \n",
    "# result = db.warbler.delete_one({\"_id\":ObjectId(\"58e6284140383b02a9515c64\")})\n",
    "# result\n",
    "\n",
    "for _id in [i[0] for i in result]:\n",
    "    t = db.tweets.find_one( {\"_id\" : ObjectId(_id)} )\n",
    "    print(t['text'])"
   ]
  },
  {
   "cell_type": "markdown",
   "metadata": {},
   "source": [
    "## Generate the web link to the tweets of interest on Twitter.com"
   ]
  },
  {
   "cell_type": "code",
   "execution_count": 27,
   "metadata": {
    "collapsed": false
   },
   "outputs": [
    {
     "name": "stdout",
     "output_type": "stream",
     "text": [
      "https://twitter.com/anyuser/status/849755499885211648\n",
      "https://twitter.com/anyuser/status/849622872402391041\n",
      "https://twitter.com/anyuser/status/847704474961330177\n",
      "https://twitter.com/anyuser/status/848535741655375873\n",
      "https://twitter.com/anyuser/status/847065873592565761\n",
      "https://twitter.com/anyuser/status/850491924930678785\n",
      "https://twitter.com/anyuser/status/850883654725230596\n",
      "https://twitter.com/anyuser/status/850818231946231808\n",
      "https://twitter.com/anyuser/status/850738275505635328\n",
      "https://twitter.com/anyuser/status/851197774297157632\n"
     ]
    }
   ],
   "source": [
    "base_url = 'https://twitter.com/anyuser/status'\n",
    "\n",
    "for _id in [i[0] for i in result]:\n",
    "    t = db.tweets.find_one( {\"_id\" : ObjectId(_id)} )\n",
    "    print('{}/{}'.format(base_url, t['id_str']))"
   ]
  },
  {
   "cell_type": "code",
   "execution_count": null,
   "metadata": {
    "collapsed": true
   },
   "outputs": [],
   "source": []
  }
 ],
 "metadata": {
  "anaconda-cloud": {},
  "kernelspec": {
   "display_name": "Python [conda env:python3]",
   "language": "python",
   "name": "conda-env-python3-py"
  },
  "language_info": {
   "codemirror_mode": {
    "name": "ipython",
    "version": 3
   },
   "file_extension": ".py",
   "mimetype": "text/x-python",
   "name": "python",
   "nbconvert_exporter": "python",
   "pygments_lexer": "ipython3",
   "version": "3.5.2"
  }
 },
 "nbformat": 4,
 "nbformat_minor": 1
}
