{
 "cells": [
  {
   "cell_type": "markdown",
   "metadata": {},
   "source": [
    "# Web Scraping For Lists of Birds - Github\n",
    "\n",
    "### Alexindata 03/17/2017\n",
    "\n",
    "### Tools: Jupyter Notebook with Python 3.5, BeautifulSoup, PostgreSQL RDBMS\n"
   ]
  },
  {
   "cell_type": "markdown",
   "metadata": {},
   "source": [
    "## 1. Connect to a PostgreSQL database named 'birds'"
   ]
  },
  {
   "cell_type": "code",
   "execution_count": 23,
   "metadata": {
    "collapsed": false
   },
   "outputs": [],
   "source": [
    "import psycopg2\n",
    "import urllib.request\n",
    "from bs4 import BeautifulSoup, NavigableString, Tag\n",
    "import re\n",
    "from unidecode import unidecode\n",
    "from IPython.display import display\n",
    "import pprint as pp\n"
   ]
  },
  {
   "cell_type": "code",
   "execution_count": 2,
   "metadata": {
    "collapsed": false
   },
   "outputs": [],
   "source": [
    "user = '######'\n",
    "pw = \"######\"\n",
    "conn = psycopg2.connect(dbname = \"birds\", host = \"localhost\", port = 5432, user = user, password = pw)\n",
    "cur = conn.cursor()\n"
   ]
  },
  {
   "cell_type": "markdown",
   "metadata": {},
   "source": [
    "## 2. Collect names of north american birds from a couple of websites\n",
    "\n",
    "### Scrape from 1st web page for a bird list in North America with ABA information"
   ]
  },
  {
   "cell_type": "code",
   "execution_count": 3,
   "metadata": {
    "collapsed": false
   },
   "outputs": [],
   "source": [
    "url_1 = 'http://help.ebird.org/customer/portal/articles/1101706-aba-codes-and-ebird'\n",
    "url_2 = 'https://en.wikipedia.org/wiki/List_of_birds_of_Canada_and_the_United_States'\n",
    "\n",
    "uh = urllib.request.urlopen(url_1)\n",
    "html = uh.read()"
   ]
  },
  {
   "cell_type": "code",
   "execution_count": 4,
   "metadata": {
    "collapsed": false
   },
   "outputs": [],
   "source": [
    "# ebird table\n",
    "\n",
    "try:\n",
    "    cur.execute(\"CREATE TABLE IF NOT EXISTS ebird (ebird_id SERIAL PRIMARY KEY, name TEXT NOT NULL, family TEXT, aba INTEGER, wiki_id INTEGER)\")\n",
    "except psycopg2.Error:\n",
    "    conn.rollback()  # must use conn.commit() to write to disk, otherwise no changes to the db will show.\n",
    "else:\n",
    "    conn.commit()\n"
   ]
  },
  {
   "cell_type": "code",
   "execution_count": 5,
   "metadata": {
    "collapsed": true
   },
   "outputs": [],
   "source": [
    "soup = BeautifulSoup(html, 'html.parser')"
   ]
  },
  {
   "cell_type": "code",
   "execution_count": 9,
   "metadata": {
    "collapsed": false,
    "scrolled": true
   },
   "outputs": [],
   "source": [
    "# the bird list is in 5th p, use -1 to subset\n",
    "third_p = soup.find_all('p', limit=5)[-1]\n",
    "\n",
    "for br in third_p.find_all('br'):\n",
    "    previous = br.previous_sibling\n",
    "    if not (previous and isinstance(previous, NavigableString)):\n",
    "        continue\n",
    "    text = previous.strip()\n",
    "    if text:\n",
    "        if text[0].isdigit():\n",
    "            line_num = re.search('(.+)\\. ', text).group(1)\n",
    "            name = re.search(' (.+) \\(', text).group(1)\n",
    "            name = re.sub('-', ' ', name) # replace '-' with space\n",
    "            aba = re.search('.+ \\(([1-6])\\)', text).group(1).strip()\n",
    "                \n",
    "            try:\n",
    "                # even though b_aba is integer, %i is not accepted in VALUES() field\n",
    "                cur.execute('INSERT INTO ebird (name, aba) VALUES (%s, %s);', (name, aba))\n",
    "            except psycopg2.Error as e:\n",
    "                print('Error in SQL command, {}'.format(e))\n",
    "                conn.rollback()\n",
    "            else:\n",
    "                conn.commit()\n",
    "  "
   ]
  },
  {
   "cell_type": "code",
   "execution_count": 33,
   "metadata": {
    "collapsed": false
   },
   "outputs": [
    {
     "name": "stdout",
     "output_type": "stream",
     "text": [
      "[(696, 'Arctic Warbler', 'Leaf-warblers', 2, 731),\n",
      " (770, \"Bachman's Warbler\", 'Wood-warblers', 6, 816),\n",
      " (800, 'Bay breasted Warbler', 'Wood-warblers', 1, 847)]\n"
     ]
    }
   ],
   "source": [
    "# show 3 birds from ebird table that are Warblers\n",
    "try:\n",
    "    cur.execute(\"SELECT * FROM ebird WHERE LOWER(name) LIKE '%warbler%' LIMIT 3;\")\n",
    "except psycopg2.Error:\n",
    "    conn.rollback()\n",
    "else:\n",
    "    q1 = cur.fetchall()\n",
    "    pp.pprint(q1)"
   ]
  },
  {
   "cell_type": "markdown",
   "metadata": {},
   "source": [
    "### Scrape the 2nd web page"
   ]
  },
  {
   "cell_type": "code",
   "execution_count": 27,
   "metadata": {
    "collapsed": false
   },
   "outputs": [],
   "source": [
    "# scraping the wiki page on north american birds\n",
    "\n",
    "uh2 = urllib.request.urlopen(url_2)\n",
    "html2 = uh2.read()"
   ]
  },
  {
   "cell_type": "code",
   "execution_count": 29,
   "metadata": {
    "collapsed": false
   },
   "outputs": [],
   "source": [
    "soup2 = BeautifulSoup(html2, 'html.parser')"
   ]
  },
  {
   "cell_type": "code",
   "execution_count": 30,
   "metadata": {
    "collapsed": true
   },
   "outputs": [],
   "source": [
    "try:\n",
    "    cur.execute(\"CREATE TABLE IF NOT EXISTS wiki (wiki_id SERIAL PRIMARY KEY, name TEXT NOT NULL, family TEXT NOT NULL, sci_name TEXT, status TEXT, status_info TEXT, link TEXT)\")\n",
    "except psycopg2.Error:\n",
    "    conn.rollback()\n",
    "else:\n",
    "    conn.commit()\n"
   ]
  },
  {
   "cell_type": "code",
   "execution_count": 30,
   "metadata": {
    "collapsed": false
   },
   "outputs": [],
   "source": [
    "# working properly\n",
    "\n",
    "idx = 0\n",
    "base = 'https://en.wikipedia.org'\n",
    "\n",
    "for a in soup2.select('h2 span'):\n",
    "    if a['class'] == ['mw-headline']:\n",
    "        idx += 1\n",
    "        if idx >=3 and idx <= 92:\n",
    "            family = a.get_text()\n",
    "\n",
    "            for b in a.parent.find_next_sibling('ul'):\n",
    "                if not isinstance(b, NavigableString):\n",
    "                    name = b.next_element.get_text()\n",
    "                    name = re.sub('-', ' ', name) # remove '-' in bird names, as they are irregular\n",
    "                    name = unidecode(str(name)) # force utf8 conversion to closest ASCII, using unidecode package\n",
    "                    link = base + b.a['href']\n",
    "                    sci_name = b.i.get_text()\n",
    "                    if b.span:\n",
    "                        status = b.span.get_text()\n",
    "                        status_info = b.span['title']\n",
    "                        status_info = re.search(': (.+)$', status_info).group(1)\n",
    "                    try:\n",
    "                        cur.execute(\"INSERT INTO wiki (name, family, sci_name, status, status_info, link) VALUES (%s, %s, %s, %s, %s, %s);\", (name, family, sci_name, status, status_info, link))\n",
    "                    except psycopg2.Error:\n",
    "                        conn.rollback()\n",
    "                    else:\n",
    "                        conn.commit()\n",
    "                else:\n",
    "                    continue\n"
   ]
  },
  {
   "cell_type": "code",
   "execution_count": 32,
   "metadata": {
    "collapsed": false
   },
   "outputs": [
    {
     "name": "stdout",
     "output_type": "stream",
     "text": [
      "[(726,\n",
      "  'Willow warbler',\n",
      "  'Leaf-warblers',\n",
      "  'Phylloscopus trochilus',\n",
      "  'LC',\n",
      "  'Least Concern',\n",
      "  'https://en.wikipedia.org/wiki/Willow_warbler'),\n",
      " (727,\n",
      "  'Wood warbler',\n",
      "  'Leaf-warblers',\n",
      "  'Phylloscopus sibilatrix',\n",
      "  'LC',\n",
      "  'Least Concern',\n",
      "  'https://en.wikipedia.org/wiki/Wood_warbler'),\n",
      " (728,\n",
      "  'Dusky warbler',\n",
      "  'Leaf-warblers',\n",
      "  'Phylloscopus fuscatus',\n",
      "  'LC',\n",
      "  'Least Concern',\n",
      "  'https://en.wikipedia.org/wiki/Dusky_warbler')]\n"
     ]
    }
   ],
   "source": [
    "# show 3 birds from wiki table that are Warblers\n",
    "try:\n",
    "    cur.execute(\"SELECT * FROM wiki WHERE LOWER(name) LIKE '%warbler%' LIMIT 3;\")\n",
    "except psycopg2.Error:\n",
    "    conn.rollback()\n",
    "else:\n",
    "    q2 = cur.fetchall()\n",
    "    pp.pprint(q2)"
   ]
  },
  {
   "cell_type": "markdown",
   "metadata": {},
   "source": [
    "### Merge bird family, wiki_id info from wiki table to ebird table"
   ]
  },
  {
   "cell_type": "code",
   "execution_count": 44,
   "metadata": {
    "collapsed": false
   },
   "outputs": [],
   "source": [
    "# update 'family', and 'wiki_id' columns in ebird table using wiki table information\n",
    "\n",
    "try:\n",
    "    cur.execute(\"UPDATE ebird e SET (family, wiki_id) = (w.family, w.wiki_id) FROM wiki w WHERE LOWER(e.name) = LOWER(w.name);\")\n",
    "except:\n",
    "    conn.rollback()\n",
    "else:\n",
    "    conn.commit()\n"
   ]
  },
  {
   "cell_type": "code",
   "execution_count": 34,
   "metadata": {
    "collapsed": false
   },
   "outputs": [
    {
     "name": "stdout",
     "output_type": "stream",
     "text": [
      "[(696, 'Arctic Warbler', 'Leaf-warblers', 2, 731),\n",
      " (770, \"Bachman's Warbler\", 'Wood-warblers', 6, 816),\n",
      " (800, 'Bay breasted Warbler', 'Wood-warblers', 1, 847)]\n"
     ]
    }
   ],
   "source": [
    "# show 3 birds from ebird table that are Warblers, with updated information\n",
    "try:\n",
    "    cur.execute(\"SELECT * FROM ebird WHERE LOWER(name) LIKE '%warbler%' LIMIT 3;\")\n",
    "except psycopg2.Error:\n",
    "    conn.rollback()\n",
    "else:\n",
    "    q3 = cur.fetchall()\n",
    "    pp.pprint(q3)"
   ]
  },
  {
   "cell_type": "code",
   "execution_count": 35,
   "metadata": {
    "collapsed": true
   },
   "outputs": [],
   "source": [
    "cur.close()\n",
    "conn.close()"
   ]
  },
  {
   "cell_type": "code",
   "execution_count": null,
   "metadata": {
    "collapsed": true
   },
   "outputs": [],
   "source": []
  }
 ],
 "metadata": {
  "anaconda-cloud": {},
  "kernelspec": {
   "display_name": "Python [conda env:python3]",
   "language": "python",
   "name": "conda-env-python3-py"
  },
  "language_info": {
   "codemirror_mode": {
    "name": "ipython",
    "version": 3
   },
   "file_extension": ".py",
   "mimetype": "text/x-python",
   "name": "python",
   "nbconvert_exporter": "python",
   "pygments_lexer": "ipython3",
   "version": "3.5.2"
  }
 },
 "nbformat": 4,
 "nbformat_minor": 1
}
